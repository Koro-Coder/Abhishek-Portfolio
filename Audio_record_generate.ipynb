{
  "nbformat": 4,
  "nbformat_minor": 0,
  "metadata": {
    "colab": {
      "provenance": [],
      "authorship_tag": "ABX9TyNUSVM4xM0q6+2cdj2bzbqe",
      "include_colab_link": true
    },
    "kernelspec": {
      "name": "python3",
      "display_name": "Python 3"
    },
    "language_info": {
      "name": "python"
    },
    "widgets": {
      "application/vnd.jupyter.widget-state+json": {
        "f86e6176494c495ebb748f26313aa82d": {
          "model_module": "jupyter-webrtc",
          "model_name": "AudioRecorderModel",
          "model_module_version": "~0.6.0",
          "state": {
            "_data_src": "blob:https://fhh8walvtes-496ff2e9c6d22116-0-colab.googleusercontent.com/dcb79a23-56a7-4994-ac36-7ac268c6469b",
            "_dom_classes": [],
            "_model_module": "jupyter-webrtc",
            "_model_module_version": "~0.6.0",
            "_model_name": "AudioRecorderModel",
            "_view_count": null,
            "_view_module": "jupyter-webrtc",
            "_view_module_version": "~0.6.0",
            "_view_name": "AudioRecorderView",
            "audio": "IPY_MODEL_6a748b97eea74d53a5b2649b6e5c82fa",
            "autosave": false,
            "codecs": "",
            "filename": "record",
            "format": "webm",
            "layout": "IPY_MODEL_405c3a449cd541a4bf936ed702fdc161",
            "recording": false,
            "stream": "IPY_MODEL_9c926f022be340b78513cbf83f711766"
          }
        },
        "6a748b97eea74d53a5b2649b6e5c82fa": {
          "model_module": "@jupyter-widgets/controls",
          "model_name": "AudioModel",
          "model_module_version": "1.5.0",
          "state": {
            "_dom_classes": [],
            "_model_module": "@jupyter-widgets/controls",
            "_model_module_version": "1.5.0",
            "_model_name": "AudioModel",
            "_view_count": null,
            "_view_module": "@jupyter-widgets/controls",
            "_view_module_version": "1.5.0",
            "_view_name": "AudioView",
            "autoplay": true,
            "controls": true,
            "format": "webm",
            "layout": "IPY_MODEL_85dcbc16a1d346bf80ad8535039dff95",
            "loop": true
          }
        },
        "405c3a449cd541a4bf936ed702fdc161": {
          "model_module": "@jupyter-widgets/base",
          "model_name": "LayoutModel",
          "model_module_version": "1.2.0",
          "state": {
            "_model_module": "@jupyter-widgets/base",
            "_model_module_version": "1.2.0",
            "_model_name": "LayoutModel",
            "_view_count": null,
            "_view_module": "@jupyter-widgets/base",
            "_view_module_version": "1.2.0",
            "_view_name": "LayoutView",
            "align_content": null,
            "align_items": null,
            "align_self": null,
            "border": null,
            "bottom": null,
            "display": null,
            "flex": null,
            "flex_flow": null,
            "grid_area": null,
            "grid_auto_columns": null,
            "grid_auto_flow": null,
            "grid_auto_rows": null,
            "grid_column": null,
            "grid_gap": null,
            "grid_row": null,
            "grid_template_areas": null,
            "grid_template_columns": null,
            "grid_template_rows": null,
            "height": null,
            "justify_content": null,
            "justify_items": null,
            "left": null,
            "margin": null,
            "max_height": null,
            "max_width": null,
            "min_height": null,
            "min_width": null,
            "object_fit": null,
            "object_position": null,
            "order": null,
            "overflow": null,
            "overflow_x": null,
            "overflow_y": null,
            "padding": null,
            "right": null,
            "top": null,
            "visibility": null,
            "width": null
          }
        },
        "9c926f022be340b78513cbf83f711766": {
          "model_module": "jupyter-webrtc",
          "model_name": "CameraStreamModel",
          "model_module_version": "~0.6.0",
          "state": {
            "_dom_classes": [],
            "_model_module": "jupyter-webrtc",
            "_model_module_version": "~0.6.0",
            "_model_name": "CameraStreamModel",
            "_view_count": null,
            "_view_module": "jupyter-webrtc",
            "_view_module_version": "~0.6.0",
            "_view_name": "MediaStreamView",
            "constraints": {
              "audio": true,
              "video": false
            },
            "layout": "IPY_MODEL_acc786b091ec46b69ec1f18034fbd59d"
          }
        },
        "85dcbc16a1d346bf80ad8535039dff95": {
          "model_module": "@jupyter-widgets/base",
          "model_name": "LayoutModel",
          "model_module_version": "1.2.0",
          "state": {
            "_model_module": "@jupyter-widgets/base",
            "_model_module_version": "1.2.0",
            "_model_name": "LayoutModel",
            "_view_count": null,
            "_view_module": "@jupyter-widgets/base",
            "_view_module_version": "1.2.0",
            "_view_name": "LayoutView",
            "align_content": null,
            "align_items": null,
            "align_self": null,
            "border": null,
            "bottom": null,
            "display": null,
            "flex": null,
            "flex_flow": null,
            "grid_area": null,
            "grid_auto_columns": null,
            "grid_auto_flow": null,
            "grid_auto_rows": null,
            "grid_column": null,
            "grid_gap": null,
            "grid_row": null,
            "grid_template_areas": null,
            "grid_template_columns": null,
            "grid_template_rows": null,
            "height": null,
            "justify_content": null,
            "justify_items": null,
            "left": null,
            "margin": null,
            "max_height": null,
            "max_width": null,
            "min_height": null,
            "min_width": null,
            "object_fit": null,
            "object_position": null,
            "order": null,
            "overflow": null,
            "overflow_x": null,
            "overflow_y": null,
            "padding": null,
            "right": null,
            "top": null,
            "visibility": null,
            "width": null
          }
        },
        "acc786b091ec46b69ec1f18034fbd59d": {
          "model_module": "@jupyter-widgets/base",
          "model_name": "LayoutModel",
          "model_module_version": "1.2.0",
          "state": {
            "_model_module": "@jupyter-widgets/base",
            "_model_module_version": "1.2.0",
            "_model_name": "LayoutModel",
            "_view_count": null,
            "_view_module": "@jupyter-widgets/base",
            "_view_module_version": "1.2.0",
            "_view_name": "LayoutView",
            "align_content": null,
            "align_items": null,
            "align_self": null,
            "border": null,
            "bottom": null,
            "display": null,
            "flex": null,
            "flex_flow": null,
            "grid_area": null,
            "grid_auto_columns": null,
            "grid_auto_flow": null,
            "grid_auto_rows": null,
            "grid_column": null,
            "grid_gap": null,
            "grid_row": null,
            "grid_template_areas": null,
            "grid_template_columns": null,
            "grid_template_rows": null,
            "height": null,
            "justify_content": null,
            "justify_items": null,
            "left": null,
            "margin": null,
            "max_height": null,
            "max_width": null,
            "min_height": null,
            "min_width": null,
            "object_fit": null,
            "object_position": null,
            "order": null,
            "overflow": null,
            "overflow_x": null,
            "overflow_y": null,
            "padding": null,
            "right": null,
            "top": null,
            "visibility": null,
            "width": null
          }
        }
      }
    }
  },
  "cells": [
    {
      "cell_type": "markdown",
      "metadata": {
        "id": "view-in-github",
        "colab_type": "text"
      },
      "source": [
        "<a href=\"https://colab.research.google.com/github/Koro-Coder/Abhishek-Portfolio/blob/main/Audio_record_generate.ipynb\" target=\"_parent\"><img src=\"https://colab.research.google.com/assets/colab-badge.svg\" alt=\"Open In Colab\"/></a>"
      ]
    },
    {
      "cell_type": "code",
      "execution_count": 47,
      "metadata": {
        "id": "GqviQRCGl-7k",
        "colab": {
          "base_uri": "https://localhost:8080/"
        },
        "outputId": "3eedc1e8-25fb-4b1c-ee7d-584ef89ba5b0"
      },
      "outputs": [
        {
          "output_type": "stream",
          "name": "stdout",
          "text": [
            "  Installing build dependencies ... \u001b[?25l\u001b[?25hdone\n",
            "  Getting requirements to build wheel ... \u001b[?25l\u001b[?25hdone\n",
            "  Preparing metadata (pyproject.toml) ... \u001b[?25l\u001b[?25hdone\n"
          ]
        }
      ],
      "source": [
        "!pip install -q Whisper\n",
        "! pip install -q git+https://github.com/openai/whisper.git\n",
        "! pip install -q sounddevice wavio\n",
        "! pip install -q ipywebrtc notebook\n",
        "! pip install -q gTTS\n"
      ]
    },
    {
      "cell_type": "code",
      "source": [
        "!apt install ffmpeg\n",
        "!apt-get install libportaudio2"
      ],
      "metadata": {
        "colab": {
          "base_uri": "https://localhost:8080/"
        },
        "id": "r3K7PT1D200P",
        "outputId": "81b17739-c2e7-4710-df6d-bf83693de5e2"
      },
      "execution_count": 31,
      "outputs": [
        {
          "output_type": "stream",
          "name": "stdout",
          "text": [
            "Reading package lists... Done\n",
            "Building dependency tree... Done\n",
            "Reading state information... Done\n",
            "ffmpeg is already the newest version (7:4.4.2-0ubuntu0.22.04.1).\n",
            "0 upgraded, 0 newly installed, 0 to remove and 49 not upgraded.\n",
            "Reading package lists... Done\n",
            "Building dependency tree... Done\n",
            "Reading state information... Done\n",
            "libportaudio2 is already the newest version (19.6.0-1.1).\n",
            "0 upgraded, 0 newly installed, 0 to remove and 49 not upgraded.\n"
          ]
        }
      ]
    },
    {
      "cell_type": "markdown",
      "source": [
        "<h2> Record Audio And Get Transcript</h2>"
      ],
      "metadata": {
        "id": "vs2z9shkv8fw"
      }
    },
    {
      "cell_type": "code",
      "source": [
        "import os\n",
        "import numpy as np\n",
        "\n",
        "try:\n",
        "    import tensorflow  # required in Colab to avoid protobuf compatibility issues\n",
        "except ImportError:\n",
        "    pass\n",
        "\n",
        "import torch\n",
        "import pandas as pd\n",
        "import whisper\n",
        "import torchaudio\n",
        "\n",
        "from ipywebrtc import AudioRecorder, CameraStream\n",
        "from IPython.display import Audio, display\n",
        "import ipywidgets as widgets\n",
        "\n",
        "DEVICE = \"cuda\" if torch.cuda.is_available() else \"cpu\""
      ],
      "metadata": {
        "id": "Dhf5PSitvj27"
      },
      "execution_count": 32,
      "outputs": []
    },
    {
      "cell_type": "code",
      "source": [
        "from google.colab import output\n",
        "output.enable_custom_widget_manager()"
      ],
      "metadata": {
        "id": "SYmtzIJmzlcB"
      },
      "execution_count": 33,
      "outputs": []
    },
    {
      "cell_type": "code",
      "source": [
        "camera = CameraStream(constraints={'audio': True,'video':False})\n",
        "recorder = AudioRecorder(stream=camera)\n",
        "recorder"
      ],
      "metadata": {
        "colab": {
          "base_uri": "https://localhost:8080/",
          "height": 108,
          "referenced_widgets": [
            "f86e6176494c495ebb748f26313aa82d",
            "6a748b97eea74d53a5b2649b6e5c82fa",
            "405c3a449cd541a4bf936ed702fdc161",
            "9c926f022be340b78513cbf83f711766",
            "85dcbc16a1d346bf80ad8535039dff95",
            "acc786b091ec46b69ec1f18034fbd59d"
          ]
        },
        "id": "5fJs6gMs0qtJ",
        "outputId": "901df9ad-e66f-4c30-e069-db08746137ad"
      },
      "execution_count": 43,
      "outputs": [
        {
          "output_type": "display_data",
          "data": {
            "text/plain": [
              "AudioRecorder(audio=Audio(value=b'', format='webm'), stream=CameraStream(constraints={'audio': True, 'video': …"
            ],
            "application/vnd.jupyter.widget-view+json": {
              "version_major": 2,
              "version_minor": 0,
              "model_id": "f86e6176494c495ebb748f26313aa82d"
            }
          },
          "metadata": {
            "application/vnd.jupyter.widget-view+json": {
              "colab": {
                "custom_widget_manager": {
                  "url": "https://ssl.gstatic.com/colaboratory-static/widgets/colab-cdn-widget-manager/2b70e893a8ba7c0f/manager.min.js"
                }
              }
            }
          }
        }
      ]
    },
    {
      "cell_type": "code",
      "source": [
        "with open('recording.webm', 'wb') as f:\n",
        "    f.write(recorder.audio.value)\n",
        "!ffmpeg -i recording.webm -ac 1 -f wav my_recording.wav -y -hide_banner -loglevel panic\n",
        "\n",
        "import whisper\n",
        "\n",
        "model = whisper.load_model(\"base\")\n",
        "audio = whisper.load_audio(\"my_recording.wav\")\n",
        "result = model.transcribe(audio)\n",
        "\n",
        "print(\"TRANSCRIPTION  -  \", result['text'])\n"
      ],
      "metadata": {
        "colab": {
          "base_uri": "https://localhost:8080/"
        },
        "id": "iFmaihri3Gld",
        "outputId": "98fa7253-d728-464e-a8f6-022c57a79488"
      },
      "execution_count": 51,
      "outputs": [
        {
          "output_type": "stream",
          "name": "stderr",
          "text": [
            "/usr/local/lib/python3.11/dist-packages/whisper/__init__.py:150: FutureWarning: You are using `torch.load` with `weights_only=False` (the current default value), which uses the default pickle module implicitly. It is possible to construct malicious pickle data which will execute arbitrary code during unpickling (See https://github.com/pytorch/pytorch/blob/main/SECURITY.md#untrusted-models for more details). In a future release, the default value for `weights_only` will be flipped to `True`. This limits the functions that could be executed during unpickling. Arbitrary objects will no longer be allowed to be loaded via this mode unless they are explicitly allowlisted by the user via `torch.serialization.add_safe_globals`. We recommend you start setting `weights_only=True` for any use case where you don't have full control of the loaded file. Please open an issue on GitHub for any issues related to this experimental feature.\n",
            "  checkpoint = torch.load(fp, map_location=device)\n",
            "/usr/local/lib/python3.11/dist-packages/whisper/transcribe.py:126: UserWarning: FP16 is not supported on CPU; using FP32 instead\n",
            "  warnings.warn(\"FP16 is not supported on CPU; using FP32 instead\")\n"
          ]
        },
        {
          "output_type": "stream",
          "name": "stdout",
          "text": [
            "TRANSCRIPTION  -    Mastercard, Credit, debit, loans, bank.\n"
          ]
        }
      ]
    },
    {
      "cell_type": "markdown",
      "source": [
        "<h2> Uplaoad Audio File And Get Transcript</h2>"
      ],
      "metadata": {
        "id": "QkRoG5B1uuef"
      }
    },
    {
      "cell_type": "code",
      "source": [
        "import whisper\n",
        "\n",
        "model = whisper.load_model(\"base\")\n",
        "audio = whisper.load_audio(\"audio_0.mp3\")\n",
        "result = model.transcribe(audio)\n",
        "\n",
        "print(result['text'])\n"
      ],
      "metadata": {
        "colab": {
          "base_uri": "https://localhost:8080/"
        },
        "id": "dcRdKL7EuNNa",
        "outputId": "c92bbeef-e5f1-48e8-f5eb-627134bcada2"
      },
      "execution_count": 46,
      "outputs": [
        {
          "output_type": "stream",
          "name": "stderr",
          "text": [
            "/usr/local/lib/python3.11/dist-packages/whisper/__init__.py:150: FutureWarning: You are using `torch.load` with `weights_only=False` (the current default value), which uses the default pickle module implicitly. It is possible to construct malicious pickle data which will execute arbitrary code during unpickling (See https://github.com/pytorch/pytorch/blob/main/SECURITY.md#untrusted-models for more details). In a future release, the default value for `weights_only` will be flipped to `True`. This limits the functions that could be executed during unpickling. Arbitrary objects will no longer be allowed to be loaded via this mode unless they are explicitly allowlisted by the user via `torch.serialization.add_safe_globals`. We recommend you start setting `weights_only=True` for any use case where you don't have full control of the loaded file. Please open an issue on GitHub for any issues related to this experimental feature.\n",
            "  checkpoint = torch.load(fp, map_location=device)\n",
            "/usr/local/lib/python3.11/dist-packages/whisper/transcribe.py:126: UserWarning: FP16 is not supported on CPU; using FP32 instead\n",
            "  warnings.warn(\"FP16 is not supported on CPU; using FP32 instead\")\n"
          ]
        },
        {
          "output_type": "stream",
          "name": "stdout",
          "text": [
            " Footnote 1. Two cash rewards are earned for everyone spent in net purchases, purchases minus returns credits on the credit card account.\n"
          ]
        }
      ]
    },
    {
      "cell_type": "markdown",
      "source": [
        "<h2> Text To Speech </h2>"
      ],
      "metadata": {
        "id": "r5Wnz0mm7Hff"
      }
    },
    {
      "cell_type": "code",
      "source": [
        "import os\n",
        "from gtts import gTTS\n",
        "from IPython.display import Audio\n",
        "\n",
        "def text_to_speech(text):\n",
        "    tts = gTTS(text=text, lang='en')\n",
        "    tts.save(\"output.mp3\")\n",
        "\n",
        "    return Audio(\"output.mp3\", autoplay=True)\n",
        "\n",
        "text = result['text']\n",
        "text_to_speech(text)\n"
      ],
      "metadata": {
        "colab": {
          "base_uri": "https://localhost:8080/",
          "height": 76
        },
        "id": "mXSA0Izp7L-k",
        "outputId": "1b80db9f-9790-42ad-b5ae-567eb03db6fa"
      },
      "execution_count": 52,
      "outputs": [
        {
          "output_type": "execute_result",
          "data": {
            "text/plain": [
              "<IPython.lib.display.Audio object>"
            ],
            "text/html": [
              "\n",
              "                <audio  controls=\"controls\" autoplay=\"autoplay\">\n",
              "                    <source src=\"data:audio/mpeg;base64,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\" type=\"audio/mpeg\" />\n",
              "                    Your browser does not support the audio element.\n",
              "                </audio>\n",
              "              "
            ]
          },
          "metadata": {},
          "execution_count": 52
        }
      ]
    }
  ]
}